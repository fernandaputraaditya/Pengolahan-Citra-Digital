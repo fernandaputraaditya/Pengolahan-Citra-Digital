{
 "cells": [
  {
   "cell_type": "code",
   "execution_count": 1,
   "metadata": {},
   "outputs": [],
   "source": [
    "import numpy as np\n",
    "import matplotlib.pyplot as plt"
   ]
  },
  {
   "cell_type": "code",
   "execution_count": 2,
   "metadata": {},
   "outputs": [
    {
     "data": {
      "text/plain": [
       "<matplotlib.image.AxesImage at 0x1bd41136850>"
      ]
     },
     "execution_count": 2,
     "metadata": {},
     "output_type": "execute_result"
    },
    {
     "data": {
      "image/png": "[encoded data removed]",
      "text/plain": [
       "<Figure size 432x288 with 1 Axes>"
      ]
     },
     "metadata": {
      "needs_background": "light"
     },
     "output_type": "display_data"
    }
   ],
   "source": [
    "data = np.array([\n",
    "    [6,6,5,5,7,7],\n",
    "    [6,6,5,5,7,6],\n",
    "    [6,2,1,1,0,2],\n",
    "    [7,2,1,0,0,2],\n",
    "    [3,0,1,0,4,2],\n",
    "    [6,6,3,6,1,2]])\n",
    "\n",
    "plt.imshow(data)"
   ]
  },
  {
   "cell_type": "code",
   "execution_count": 3,
   "metadata": {},
   "outputs": [
    {
     "data": {
      "image/png": "[encoded data removed]",
      "text/plain": [
       "<Figure size 432x288 with 1 Axes>"
      ]
     },
     "metadata": {
      "needs_background": "light"
     },
     "output_type": "display_data"
    }
   ],
   "source": [
    "plt.hist(data.flatten(),256,[0,256], color = 'red')\n",
    "plt.xlim([0,256])\n",
    "plt.title(\"Histogram Equalization\")\n",
    "plt.show()"
   ]
  },
  {
   "cell_type": "code",
   "execution_count": 4,
   "metadata": {},
   "outputs": [
    {
     "data": {
      "text/plain": [
       "<matplotlib.image.AxesImage at 0x1bd417a9460>"
      ]
     },
     "execution_count": 4,
     "metadata": {},
     "output_type": "execute_result"
    },
    {
     "data": {
      "image/png": "[encoded data removed]",
      "text/plain": [
       "<Figure size 432x288 with 1 Axes>"
      ]
     },
     "metadata": {
      "needs_background": "light"
     },
     "output_type": "display_data"
    }
   ],
   "source": [
    "#Ambil data histogram\n",
    "hist,bins = np.histogram(data, 256, [0,256])\n",
    "\n",
    "#Proses\n",
    "cdf = hist.cumsum()\n",
    "cdf_normalized = cdf * hist.max() / cdf.max()\n",
    "cdf_m = np.ma.masked_equal(cdf, 0)\n",
    "cdf_m = (cdf_m - cdf_m.min()) * 255 / (cdf_m.max()-cdf_m.min())\n",
    "cdf = np.ma.filled(cdf_m, 0).astype('uint8')\n",
    "gambar = cdf[data]\n",
    "\n",
    "#PlottingGambar\n",
    "plt.imshow(gambar)"
   ]
  },
  {
   "cell_type": "code",
   "execution_count": 5,
   "metadata": {},
   "outputs": [
    {
     "data": {
      "image/png": "[encoded data removed]",
      "text/plain": [
       "<Figure size 432x288 with 1 Axes>"
      ]
     },
     "metadata": {
      "needs_background": "light"
     },
     "output_type": "display_data"
    }
   ],
   "source": [
    "#hasil histogram equalization\n",
    "plt.plot(cdf_normalized, color='blue')\n",
    "plt.hist(gambar.flatten(), 256, [0,256], color='red')\n",
    "plt.xlim([0,256])\n",
    "plt.legend(('cdf', 'histogram'), loc= 'upper right')\n",
    "plt.show()"
   ]
  },
  {
   "cell_type": "code",
   "execution_count": 6,
   "metadata": {},
   "outputs": [
    {
     "data": {
      "text/plain": [
       "<matplotlib.image.AxesImage at 0x1bd41b42c40>"
      ]
     },
     "execution_count": 6,
     "metadata": {},
     "output_type": "execute_result"
    },
    {
     "data": {
      "image/png": "[encoded data removed]",
      "text/plain": [
       "<Figure size 432x288 with 1 Axes>"
      ]
     },
     "metadata": {
      "needs_background": "light"
     },
     "output_type": "display_data"
    }
   ],
   "source": [
    "data = np.array([\n",
    "    [6,6,5,5,7,7],\n",
    "    [6,6,5,5,7,6],\n",
    "    [6,2,1,1,0,2],\n",
    "    [7,2,1,0,0,2],\n",
    "    [3,0,1,0,4,2],\n",
    "    [6,6,3,6,1,2]])\n",
    "\n",
    "definisiSpesifikasi=[\n",
    "                    [0,5],\n",
    "                    [1,5],\n",
    "                    [2,10],\n",
    "                    [3,15],\n",
    "                    [4,20],\n",
    "                    [5,25],\n",
    "                    [6,15],\n",
    "                    [7,5],\n",
    "                ]\n",
    "\n",
    "tabel1 = []\n",
    "length_table = data.shape[0] * data.shape[1]\n",
    "for i in data.flatten():\n",
    "    if not i in tabel1:\n",
    "        tabel1.append([i])\n",
    "tabel1.sort()\n",
    "\n",
    "#kolom 2\n",
    "for i in range(0,len(tabel1)):\n",
    "    a = list(data.flatten())\n",
    "    new_value = [tabel1[i], a.count(tabel1[i])]\n",
    "    tabel1[i] = new_value\n",
    "\n",
    "#kolom 3\n",
    "for i in range(0,len(tabel1)):\n",
    "    px = 0\n",
    "    for j in range(0,i+1):\n",
    "        px += tabel1[j][1]\n",
    "    pxudu = px / length_table\n",
    "    new_value = tabel1[i] + [pxudu]\n",
    "    tabel1[i] = new_value\n",
    "\n",
    "#Plotting gambar Awal Equalization Spesification\n",
    "plt.imshow(data)"
   ]
  },
  {
   "cell_type": "code",
   "execution_count": 8,
   "metadata": {},
   "outputs": [
    {
     "data": {
      "image/png": "[encoded data removed]",
      "text/plain": [
       "<Figure size 432x288 with 1 Axes>"
      ]
     },
     "metadata": {
      "needs_background": "light"
     },
     "output_type": "display_data"
    }
   ],
   "source": [
    "#Plotting histogram Awal Equalization Spesification\n",
    "plt.hist(data.flatten(),256,[0,256], color = 'green')\n",
    "plt.xlim([0,256])\n",
    "plt.title(\"Histogram Hasil Awal Equalization Spesification\")\n",
    "plt.show()"
   ]
  },
  {
   "cell_type": "code",
   "execution_count": 9,
   "metadata": {},
   "outputs": [],
   "source": [
    "tabel2 = []\n",
    "#kolom 1 dan 2\n",
    "for i in range(0,len(definisiSpesifikasi)):\n",
    "    z = definisiSpesifikasi[i][0]\n",
    "    pz = definisiSpesifikasi[i][1]/100\n",
    "    tabel2.append([z,pz])\n",
    "\n",
    "#kolom 3\n",
    "for i in range(0, len(tabel2)):\n",
    "    pzudu = 0\n",
    "    for j in range(0,i+1):\n",
    "        pzudu += tabel2[j][1]\n",
    "    tabel2[i] = tabel2[i] + [pzudu]"
   ]
  },
  {
   "cell_type": "code",
   "execution_count": 10,
   "metadata": {},
   "outputs": [],
   "source": [
    "tabel3 = []\n",
    "for i in data.flatten():\n",
    "    if not i in tabel3:\n",
    "        tabel3.append([i])\n",
    "tabel3.sort()"
   ]
  },
  {
   "cell_type": "code",
   "execution_count": 11,
   "metadata": {},
   "outputs": [],
   "source": [
    "for i in range(0,len(tabel1)):\n",
    "    kiri = tabel1[i][2]\n",
    "    cari_terdekat = tabel2[np.abs(np.asarray([a[2] for a in tabel2])-kiri).argmin()]\n",
    "    kanan = cari_terdekat[2]\n",
    "    z = cari_terdekat[0]\n",
    "    tengah = str(kiri) + ' = ' + str(kanan) \n",
    "    new_value = [tabel3[i], tengah, z] \n",
    "    tabel3[i] = new_value"
   ]
  },
  {
   "cell_type": "code",
   "execution_count": 12,
   "metadata": {},
   "outputs": [],
   "source": [
    "esDataAkhir = np.array(data[:])\n",
    "for i in range(0,len(esDataAkhir)):\n",
    "    for j in range(0, len(esDataAkhir[i])):\n",
    "        index = -1;\n",
    "        for jj in range(0,len(tabel3)):\n",
    "            if esDataAkhir[i][j] == tabel3[jj][0]:\n",
    "                index = jj\n",
    "        esDataAkhir[i][j] = tabel3[index][2]"
   ]
  },
  {
   "cell_type": "code",
   "execution_count": 13,
   "metadata": {},
   "outputs": [
    {
     "data": {
      "text/plain": [
       "<matplotlib.image.AxesImage at 0x1bd4163c910>"
      ]
     },
     "execution_count": 13,
     "metadata": {},
     "output_type": "execute_result"
    },
    {
     "data": {
      "image/png": "[encoded data removed]",
      "text/plain": [
       "<Figure size 432x288 with 1 Axes>"
      ]
     },
     "metadata": {
      "needs_background": "light"
     },
     "output_type": "display_data"
    }
   ],
   "source": [
    "#Plotting gambar Akhir Equalization Spesification\n",
    "plt.imshow(esDataAkhir)"
   ]
  },
  {
   "cell_type": "code",
   "execution_count": 14,
   "metadata": {},
   "outputs": [
    {
     "data": {
      "image/png": "[encoded data removed]",
      "text/plain": [
       "<Figure size 432x288 with 1 Axes>"
      ]
     },
     "metadata": {
      "needs_background": "light"
     },
     "output_type": "display_data"
    }
   ],
   "source": [
    "plt.hist(esDataAkhir.flatten(),256,[0,256], color = 'green')\n",
    "plt.xlim([0,256])\n",
    "plt.title(\"Histogram Hasil Akhir Equalization Spesification\")\n",
    "plt.show()"
   ]
  },
  {
   "cell_type": "code",
   "execution_count": null,
   "metadata": {},
   "outputs": [],
   "source": []
  }
 ],
 "metadata": {
  "kernelspec": {
   "display_name": "Python 3",
   "language": "python",
   "name": "python3"
  },
  "language_info": {
   "codemirror_mode": {
    "name": "ipython",
    "version": 3
   },
   "file_extension": ".py",
   "mimetype": "text/x-python",
   "name": "python",
   "nbconvert_exporter": "python",
   "pygments_lexer": "ipython3",
   "version": "3.8.5"
  }
 },
 "nbformat": 4,
 "nbformat_minor": 4
}
